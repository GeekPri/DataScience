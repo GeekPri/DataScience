{
 "cells": [
  {
   "cell_type": "code",
   "execution_count": 1,
   "id": "e8d2fd31",
   "metadata": {},
   "outputs": [],
   "source": [
    "import pandas as pd\n",
    "import numpy as ny\n",
    "dataset = pd.read_csv(\"Placement.csv\")\n",
    "from Univariate import Univariate\n",
    "quan, qual = Univariate.getQuanQual(dataset)"
   ]
  },
  {
   "cell_type": "code",
   "execution_count": 41,
   "id": "967bdac6",
   "metadata": {},
   "outputs": [
    {
     "data": {
      "text/plain": [
       "count    215.000000\n",
       "mean     108.000000\n",
       "std       62.209324\n",
       "min        1.000000\n",
       "25%       54.500000\n",
       "50%      108.000000\n",
       "75%      161.500000\n",
       "max      215.000000\n",
       "Name: sl_no, dtype: float64"
      ]
     },
     "execution_count": 41,
     "metadata": {},
     "output_type": "execute_result"
    }
   ],
   "source": [
    "dataset.describe()['sl_no']"
   ]
  },
  {
   "cell_type": "code",
   "execution_count": 52,
   "id": "b0b063c4",
   "metadata": {},
   "outputs": [],
   "source": [
    "descriptive = pd.DataFrame(index=[\"Mean\", \"Median\", \"Mode\", \"0%\", \"1%\", \"Q1:25%\", \"Q2:50%\", \"Q3:75%\", \"99%\", \"Q4:100%\"], columns = quan)\n",
    "for eachField in quan:  \n",
    "    descriptive[eachField][\"Mean\"] = dataset[eachField].mean()\n",
    "    descriptive[eachField][\"Median\"] = dataset[eachField].median()\n",
    "    descriptive[eachField][\"Mode\"] = dataset[eachField].mode()[0]\n",
    "    descriptive[eachField][\"0%\"] = ny.percentile(dataset[eachField], 0)\n",
    "    descriptive[eachField][\"1%\"] = ny.percentile(dataset[eachField], 1)\n",
    "    descriptive[eachField][\"Q1:25%\"] = ny.percentile(dataset[eachField], 25)\n",
    "    descriptive[eachField][\"Q2:50%\"] = ny.percentile(dataset[eachField], 50)\n",
    "    descriptive[eachField][\"Q3:75%\"] = ny.percentile(dataset[eachField], 75)\n",
    "    descriptive[eachField][\"99%\"] = ny.percentile(dataset[eachField], 99)\n",
    "    descriptive[eachField][\"Q4:100%\"] = ny.percentile(dataset[eachField], 100)\n",
    "    "
   ]
  },
  {
   "cell_type": "code",
   "execution_count": 54,
   "id": "9d2306cb",
   "metadata": {
    "scrolled": true
   },
   "outputs": [
    {
     "data": {
      "text/html": [
       "<div>\n",
       "<style scoped>\n",
       "    .dataframe tbody tr th:only-of-type {\n",
       "        vertical-align: middle;\n",
       "    }\n",
       "\n",
       "    .dataframe tbody tr th {\n",
       "        vertical-align: top;\n",
       "    }\n",
       "\n",
       "    .dataframe thead th {\n",
       "        text-align: right;\n",
       "    }\n",
       "</style>\n",
       "<table border=\"1\" class=\"dataframe\">\n",
       "  <thead>\n",
       "    <tr style=\"text-align: right;\">\n",
       "      <th></th>\n",
       "      <th>sl_no</th>\n",
       "      <th>ssc_p</th>\n",
       "      <th>hsc_p</th>\n",
       "      <th>degree_p</th>\n",
       "      <th>etest_p</th>\n",
       "      <th>mba_p</th>\n",
       "      <th>salary</th>\n",
       "    </tr>\n",
       "  </thead>\n",
       "  <tbody>\n",
       "    <tr>\n",
       "      <th>Mean</th>\n",
       "      <td>108</td>\n",
       "      <td>67.3034</td>\n",
       "      <td>66.3332</td>\n",
       "      <td>66.3702</td>\n",
       "      <td>72.1006</td>\n",
       "      <td>62.2782</td>\n",
       "      <td>288655</td>\n",
       "    </tr>\n",
       "    <tr>\n",
       "      <th>Median</th>\n",
       "      <td>108</td>\n",
       "      <td>67</td>\n",
       "      <td>65</td>\n",
       "      <td>66</td>\n",
       "      <td>71</td>\n",
       "      <td>62</td>\n",
       "      <td>265000</td>\n",
       "    </tr>\n",
       "    <tr>\n",
       "      <th>Mode</th>\n",
       "      <td>1</td>\n",
       "      <td>62</td>\n",
       "      <td>63</td>\n",
       "      <td>65</td>\n",
       "      <td>60</td>\n",
       "      <td>56.7</td>\n",
       "      <td>300000</td>\n",
       "    </tr>\n",
       "    <tr>\n",
       "      <th>0%</th>\n",
       "      <td>1</td>\n",
       "      <td>40.89</td>\n",
       "      <td>37</td>\n",
       "      <td>50</td>\n",
       "      <td>50</td>\n",
       "      <td>51.21</td>\n",
       "      <td>NaN</td>\n",
       "    </tr>\n",
       "    <tr>\n",
       "      <th>1%</th>\n",
       "      <td>3.14</td>\n",
       "      <td>43.14</td>\n",
       "      <td>40.28</td>\n",
       "      <td>50.968</td>\n",
       "      <td>50.0672</td>\n",
       "      <td>51.4682</td>\n",
       "      <td>NaN</td>\n",
       "    </tr>\n",
       "    <tr>\n",
       "      <th>Q1:25%</th>\n",
       "      <td>54.5</td>\n",
       "      <td>60.6</td>\n",
       "      <td>60.9</td>\n",
       "      <td>61</td>\n",
       "      <td>60</td>\n",
       "      <td>57.945</td>\n",
       "      <td>NaN</td>\n",
       "    </tr>\n",
       "    <tr>\n",
       "      <th>Q2:50%</th>\n",
       "      <td>108</td>\n",
       "      <td>67</td>\n",
       "      <td>65</td>\n",
       "      <td>66</td>\n",
       "      <td>71</td>\n",
       "      <td>62</td>\n",
       "      <td>NaN</td>\n",
       "    </tr>\n",
       "    <tr>\n",
       "      <th>Q3:75%</th>\n",
       "      <td>161.5</td>\n",
       "      <td>75.7</td>\n",
       "      <td>73</td>\n",
       "      <td>72</td>\n",
       "      <td>83.5</td>\n",
       "      <td>66.255</td>\n",
       "      <td>NaN</td>\n",
       "    </tr>\n",
       "    <tr>\n",
       "      <th>99%</th>\n",
       "      <td>212.86</td>\n",
       "      <td>87</td>\n",
       "      <td>91.86</td>\n",
       "      <td>83.86</td>\n",
       "      <td>97</td>\n",
       "      <td>76.1142</td>\n",
       "      <td>NaN</td>\n",
       "    </tr>\n",
       "    <tr>\n",
       "      <th>Q4:100%</th>\n",
       "      <td>215</td>\n",
       "      <td>89.4</td>\n",
       "      <td>97.7</td>\n",
       "      <td>91</td>\n",
       "      <td>98</td>\n",
       "      <td>77.89</td>\n",
       "      <td>NaN</td>\n",
       "    </tr>\n",
       "  </tbody>\n",
       "</table>\n",
       "</div>"
      ],
      "text/plain": [
       "          sl_no    ssc_p    hsc_p degree_p  etest_p    mba_p  salary\n",
       "Mean        108  67.3034  66.3332  66.3702  72.1006  62.2782  288655\n",
       "Median      108       67       65       66       71       62  265000\n",
       "Mode          1       62       63       65       60     56.7  300000\n",
       "0%            1    40.89       37       50       50    51.21     NaN\n",
       "1%         3.14    43.14    40.28   50.968  50.0672  51.4682     NaN\n",
       "Q1:25%     54.5     60.6     60.9       61       60   57.945     NaN\n",
       "Q2:50%      108       67       65       66       71       62     NaN\n",
       "Q3:75%    161.5     75.7       73       72     83.5   66.255     NaN\n",
       "99%      212.86       87    91.86    83.86       97  76.1142     NaN\n",
       "Q4:100%     215     89.4     97.7       91       98    77.89     NaN"
      ]
     },
     "execution_count": 54,
     "metadata": {},
     "output_type": "execute_result"
    }
   ],
   "source": [
    "descriptive"
   ]
  },
  {
   "cell_type": "code",
   "execution_count": 46,
   "id": "f499a28e",
   "metadata": {},
   "outputs": [
    {
     "data": {
      "text/plain": [
       "nan"
      ]
     },
     "execution_count": 46,
     "metadata": {},
     "output_type": "execute_result"
    }
   ],
   "source": [
    "ny.percentile(dataset['salary'], 25)"
   ]
  },
  {
   "cell_type": "code",
   "execution_count": 47,
   "id": "4bfdf5eb",
   "metadata": {},
   "outputs": [
    {
     "data": {
      "text/plain": [
       "0      270000.0\n",
       "1      200000.0\n",
       "2      250000.0\n",
       "3           NaN\n",
       "4      425000.0\n",
       "         ...   \n",
       "210    400000.0\n",
       "211    275000.0\n",
       "212    295000.0\n",
       "213    204000.0\n",
       "214         NaN\n",
       "Name: salary, Length: 215, dtype: float64"
      ]
     },
     "execution_count": 47,
     "metadata": {},
     "output_type": "execute_result"
    }
   ],
   "source": [
    "dataset['salary']"
   ]
  },
  {
   "cell_type": "code",
   "execution_count": null,
   "id": "402243a3",
   "metadata": {},
   "outputs": [],
   "source": []
  }
 ],
 "metadata": {
  "kernelspec": {
   "display_name": "Python 3 (ipykernel)",
   "language": "python",
   "name": "python3"
  },
  "language_info": {
   "codemirror_mode": {
    "name": "ipython",
    "version": 3
   },
   "file_extension": ".py",
   "mimetype": "text/x-python",
   "name": "python",
   "nbconvert_exporter": "python",
   "pygments_lexer": "ipython3",
   "version": "3.7.1"
  }
 },
 "nbformat": 4,
 "nbformat_minor": 5
}
